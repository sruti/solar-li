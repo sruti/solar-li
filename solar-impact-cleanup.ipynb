{
 "cells": [
  {
   "cell_type": "code",
   "execution_count": 1,
   "metadata": {},
   "outputs": [],
   "source": [
    "import pandas as pd\n",
    "import geopandas as gpd"
   ]
  },
  {
   "cell_type": "code",
   "execution_count": 76,
   "metadata": {},
   "outputs": [
    {
     "name": "stderr",
     "output_type": "stream",
     "text": [
      "/var/folders/67/r87g720s2653g554zdhtz1vh0000gn/T/ipykernel_44423/3391262701.py:15: DtypeWarning: Columns (18,26,70,72,85,131) have mixed types. Specify dtype option on import or set low_memory=False.\n",
      "  j40_data = pd.read_csv(\"data/1.0-communities.csv\", index_col=\"Census tract 2010 ID\")\n",
      "/var/folders/67/r87g720s2653g554zdhtz1vh0000gn/T/ipykernel_44423/3391262701.py:27: DtypeWarning: Columns (148) have mixed types. Specify dtype option on import or set low_memory=False.\n",
      "  replica_data = pd.read_csv(\"data/seeds_ii_replica.csv\", index_col=\"geoid\")\n"
     ]
    }
   ],
   "source": [
    "#Load Datasets\n",
    "\n",
    "## load Project Sunroof Data\n",
    "sr_data = pd.read_csv(\"data/project-sunroof-census_tract.csv\", index_col=\"region_name\")\n",
    "sr_data = sr_data.rename_axis(index={\"region_name\": \"GEOID\"})\n",
    "sr_data.index = sr_data.index.astype(int)\n",
    "#print(sr_data.head(5))\n",
    "\n",
    "#load Energy Equity Project Data\n",
    "eep_data = pd.read_csv(\"data/eep_final_data.csv\", index_col=\"GEOID\")\n",
    "eep_data.index = eep_data.index.astype(int)\n",
    "#print(eep_data.head(5))\n",
    "\n",
    "#load Justice40 Data\n",
    "j40_data = pd.read_csv(\"data/1.0-communities.csv\", index_col=\"Census tract 2010 ID\")\n",
    "j40_data = j40_data.rename_axis(index={\"Census tract 2010 ID\": \"GEOID\"})\n",
    "j40_data.index = j40_data.index.astype(int)\n",
    "#print(j40_data.head(5))\n",
    "\n",
    "#load Opportunity Zone Data\n",
    "oz_data = pd.read_csv(\"data/Opportunity_Zone_ExportTable1.csv\", index_col=\"Tract_Boundaries_ID\")\n",
    "oz_data = oz_data.rename_axis(index={\"Tract_Boundaries_ID\": \"GEOID\"})\n",
    "oz_data.index = oz_data.index.astype(int)\n",
    "#print(oz_data.head(5))\n",
    "\n",
    "#load REPLICA data\n",
    "replica_data = pd.read_csv(\"data/seeds_ii_replica.csv\", index_col=\"geoid\")\n",
    "replica_data = replica_data.rename_axis(index={\"geoid\": \"GEOID\"})\n",
    "replica_data.index = replica_data.index.astype(int)\n",
    "#print(oz_data.head(5))"
   ]
  },
  {
   "cell_type": "code",
   "execution_count": 81,
   "metadata": {},
   "outputs": [],
   "source": [
    "#Load Geospatial Dataset\n",
    "\n",
    "#load urban areas dataset from US Census Bureau\n",
    "urban_census_geodata = gpd.read_file(\"data/tl_2010_us_uac10.shx\")\n",
    "\n",
    "#load Energy Equity Project geojson for geometry\n",
    "eep_geodata = gpd.read_file(\"data/eep_final_simplified.json\")"
   ]
  },
  {
   "cell_type": "code",
   "execution_count": 84,
   "metadata": {},
   "outputs": [],
   "source": [
    "#Extract GEOID and Geometry to join into other datasets later\n",
    "tracts_geoid = eep_geodata[[\"GEOID\", \"geometry\"]]\n",
    "tracts_geoid = tracts_geoid.set_index(\"GEOID\")\n",
    "tracts_geoid.index = tract_geoid.index.astype(int)"
   ]
  },
  {
   "cell_type": "code",
   "execution_count": 12,
   "metadata": {},
   "outputs": [
    {
     "name": "stdout",
     "output_type": "stream",
     "text": [
      "(56940, 30)\n",
      "(83548, 43)\n",
      "(74134, 132)\n"
     ]
    }
   ],
   "source": [
    "#Check datasets for shape\n",
    "print(sr_data.shape)\n",
    "print(eep_data.shape)\n",
    "print(j40_data.shape)"
   ]
  },
  {
   "cell_type": "code",
   "execution_count": 77,
   "metadata": {},
   "outputs": [],
   "source": [
    "# Create Category 1 Dataset for Main Criteria \n",
    "# based on 45D(e) Internal Revenue Service Guidelines \n",
    "# which defines \"low-income community\" census tracts where: \n",
    "# 1) Poverty rate > 20% OR \n",
    "# 2) Median family income <= 80% of statewide MFI\n",
    "\n",
    "# Create a new column 'qualified' and initialize it with False\n",
    "oz_data['qualified'] = False\n",
    "\n",
    "columns_to_convert = ['Poverty_csv_Percent_below_pover', 'MedianFamilyIncome_csv_Median_F', 'State_MedFamInc', 'Metro_MedFamInc']\n",
    "\n",
    "# Convert selected columns to float, ignoring non-numeric values\n",
    "oz_data[columns_to_convert] = oz_data[columns_to_convert].apply(pd.to_numeric, errors='coerce')\n",
    "\n",
    "\n",
    "# Set 'qualified' if poverty percentage is >= 20\n",
    "oz_data.loc[oz_data['Poverty_csv_Percent_below_pover'] >= 20, 'qualified'] = True\n",
    "\n",
    "# Set 'qualified' if tract is in metro area and median family income does not exceed \n",
    "# the greater of 80% statewide median family income and 80% metropolitan area median family income\n",
    "oz_data.loc[(oz_data['Tract_by_Metro_Area_csv_class'] == \"Metro\") & \n",
    "             (oz_data['MedianFamilyIncome_csv_Median_F'] < oz_data[['State_MedFamInc', 'Metro_MedFamInc']].max(axis=1)), 'qualified'] = True\n",
    "\n",
    "# Set 'qualified' if tract not in a metro area and median family income does not exceed 80% statewide median family income\n",
    "oz_data.loc[(oz_data['Tract_by_Metro_Area_csv_class'] != \"Metro\") & \n",
    "             (oz_data['MedianFamilyIncome_csv_Median_F'] < 0.8*oz_data['State_MedFamInc']), 'qualified'] = True\n",
    "\n",
    "oz_data_qualified = oz_data.loc[oz_data[\"qualified\"] == True][['qualified']]\n"
   ]
  },
  {
   "cell_type": "code",
   "execution_count": 78,
   "metadata": {},
   "outputs": [
    {
     "name": "stdout",
     "output_type": "stream",
     "text": [
      "            percent_covered  number_of_panels_total  number_of_panels_median   \n",
      "GEOID                                                                          \n",
      "1001020200       104.472843                 59054.0                     44.0  \\\n",
      "1001020300       101.278409                 80364.0                     41.0   \n",
      "1001020700       116.604128                104519.0                     46.0   \n",
      "1003010400        38.358459                106874.0                     51.0   \n",
      "1003010903       102.763819                169232.0                     56.0   \n",
      "\n",
      "            kw_median  kw_total  yearly_sunlight_kwh_median   \n",
      "GEOID                                                         \n",
      "1001020200      11.00  14763.50                 13564.14519  \\\n",
      "1001020300      10.25  20091.00                 12725.93064   \n",
      "1001020700      11.50  26129.75                 14215.97524   \n",
      "1003010400      12.75  26718.50                 16556.98295   \n",
      "1003010903      14.00  42308.00                 18190.67319   \n",
      "\n",
      "            yearly_sunlight_kwh_total  carbon_offset_metric_tons   \n",
      "GEOID                                                              \n",
      "1001020200                 18800000.0                11206.92580  \\\n",
      "1001020300                 25700000.0                15293.66480   \n",
      "1001020700                 34100000.0                20249.36535   \n",
      "1003010400                 36400000.0                21653.46922   \n",
      "1003010903                 55800000.0                33154.38059   \n",
      "\n",
      "            existing_installs_count STATE_NAME  ...  renter_occupied   \n",
      "GEOID                                           ...                    \n",
      "1001020200                        0    Alabama  ...        31.588133  \\\n",
      "1001020300                        1    Alabama  ...        28.423390   \n",
      "1001020700                        0    Alabama  ...        32.371795   \n",
      "1003010400                        0    Alabama  ...        13.621103   \n",
      "1003010903                        1    Alabama  ...        28.506559   \n",
      "\n",
      "            bipoc_percent  community_power_score  Total population   \n",
      "GEOID                                                                \n",
      "1001020200      63.517359                   10.0            1959.0  \\\n",
      "1001020300      36.031402                   10.0            3507.0   \n",
      "1001020700      28.326783                   10.0            3586.0   \n",
      "1003010400      14.936806                   10.0            5181.0   \n",
      "1003010903      28.753562                   10.0            6235.0   \n",
      "\n",
      "            Percent of individuals < 100% Federal Poverty Line (percentile)   \n",
      "GEOID                                                                         \n",
      "1001020200                                               72.0                \\\n",
      "1001020300                                               68.0                 \n",
      "1001020700                                               86.0                 \n",
      "1003010400                                               44.0                 \n",
      "1003010903                                               40.0                 \n",
      "\n",
      "            PM2.5 in the air (percentile)   \n",
      "GEOID                                       \n",
      "1001020200                           68.0  \\\n",
      "1001020300                           68.0   \n",
      "1001020700                           69.0   \n",
      "1003010400                           44.0   \n",
      "1003010903                           45.0   \n",
      "\n",
      "            Current asthma among adults aged greater than or equal to 18 years (percentile)   \n",
      "GEOID                                                                                         \n",
      "1001020200                                               82.0                                \\\n",
      "1001020300                                               65.0                                 \n",
      "1001020700                                               83.0                                 \n",
      "1003010400                                               43.0                                 \n",
      "1003010903                                               43.0                                 \n",
      "\n",
      "            Housing burden (percent) (percentile)   \n",
      "GEOID                                               \n",
      "1001020200                                   56.0  \\\n",
      "1001020300                                   46.0   \n",
      "1001020700                                   73.0   \n",
      "1003010400                                   16.0   \n",
      "1003010903                                   19.0   \n",
      "\n",
      "            Unemployment (percent) (percentile)  qualified  \n",
      "GEOID                                                       \n",
      "1001020200                                 44.0       True  \n",
      "1001020300                                 32.0       True  \n",
      "1001020700                                 86.0       True  \n",
      "1003010400                                 18.0       True  \n",
      "1003010903                                 56.0       True  \n",
      "\n",
      "[5 rows x 28 columns]\n"
     ]
    }
   ],
   "source": [
    "#Merge datasets\n",
    "sr_selected_cols = sr_data[['percent_covered', 'number_of_panels_total', 'number_of_panels_median', 'kw_median', 'kw_total', \n",
    "                            'yearly_sunlight_kwh_median', 'yearly_sunlight_kwh_total', 'carbon_offset_metric_tons', 'existing_installs_count']]\n",
    "\n",
    "eep_selected_cols = eep_data[['STATE_NAME', 'energy_burden', 'num_solar_installers', 'median_income_solar', 'total_pop', 'year_built', \n",
    "                              'total_households', 'median_income', 'owner_occupied', 'renter_occupied', 'bipoc_percent', 'community_power_score',  ]]\n",
    "\n",
    "j40_selected_cols = j40_data[['Total population', 'Percent of individuals < 100% Federal Poverty Line (percentile)', 'PM2.5 in the air (percentile)', \n",
    "                              'Current asthma among adults aged greater than or equal to 18 years (percentile)', 'Housing burden (percent) (percentile)', \n",
    "                              'Unemployment (percent) (percentile)']]\n",
    "\n",
    "merged_data = pd.merge(sr_selected_cols, eep_selected_cols, left_index=True, right_index=True)\n",
    "merged_data = pd.merge(merged_data, j40_selected_cols, left_index=True, right_index=True )\n",
    "merged_data = pd.merge(merged_data, oz_data_qualified, left_index=True, right_index=True )\n",
    "#does that do the filtering properly? ^^^"
   ]
  },
  {
   "cell_type": "code",
   "execution_count": 80,
   "metadata": {},
   "outputs": [
    {
     "name": "stdout",
     "output_type": "stream",
     "text": [
      "Number of data points removed for energy burden: 49\n"
     ]
    }
   ],
   "source": [
    "#Clean Data\n",
    "cleaned_data = merged_data.copy()\n",
    "\n",
    "# Count the initial number of data points\n",
    "initial_count = len(cleaned_data)\n",
    "\n",
    "# Create a boolean mask to filter out \n",
    "# 1) energy_burden data points at or above 100%\n",
    "energy_burden_mask = (cleaned_data['energy_burden'] < 100) & (cleaned_data['energy_burden'] >= 0)\n",
    "\n",
    "# Filter the DataFrame using the boolean masks while counting number of removed data points\n",
    "cleaned_data = cleaned_data[energy_burden_mask]\n",
    "new_count = len(cleaned_data)\n",
    "removed_count = initial_count - new_count\n",
    "print(\"Number of data points removed for energy burden:\", removed_count)"
   ]
  },
  {
   "cell_type": "code",
   "execution_count": 85,
   "metadata": {},
   "outputs": [],
   "source": [
    "#Write merged and cleaned dataset for further analysis\n",
    "cleaned_data.to_csv('cleaned_data.csv', index=True)\n",
    "\n",
    "#write tract_geoid to file\n",
    "tracts_geoid.to_file(\"tracts.geojson\", driver='GeoJSON')"
   ]
  }
 ],
 "metadata": {
  "kernelspec": {
   "display_name": "Python 3",
   "language": "python",
   "name": "python3"
  },
  "language_info": {
   "codemirror_mode": {
    "name": "ipython",
    "version": 3
   },
   "file_extension": ".py",
   "mimetype": "text/x-python",
   "name": "python",
   "nbconvert_exporter": "python",
   "pygments_lexer": "ipython3",
   "version": "3.10.10"
  },
  "orig_nbformat": 4
 },
 "nbformat": 4,
 "nbformat_minor": 2
}

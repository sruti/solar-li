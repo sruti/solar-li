{
 "cells": [
  {
   "cell_type": "code",
   "execution_count": 1,
   "metadata": {},
   "outputs": [],
   "source": [
    "import pandas as pd\n",
    "import geopandas as gpd"
   ]
  },
  {
   "cell_type": "code",
   "execution_count": 2,
   "metadata": {},
   "outputs": [
    {
     "name": "stderr",
     "output_type": "stream",
     "text": [
      "/var/folders/67/r87g720s2653g554zdhtz1vh0000gn/T/ipykernel_43140/3391262701.py:15: DtypeWarning: Columns (18,26,70,72,85,131) have mixed types. Specify dtype option on import or set low_memory=False.\n",
      "  j40_data = pd.read_csv(\"data/1.0-communities.csv\", index_col=\"Census tract 2010 ID\")\n",
      "/var/folders/67/r87g720s2653g554zdhtz1vh0000gn/T/ipykernel_43140/3391262701.py:27: DtypeWarning: Columns (148) have mixed types. Specify dtype option on import or set low_memory=False.\n",
      "  replica_data = pd.read_csv(\"data/seeds_ii_replica.csv\", index_col=\"geoid\")\n"
     ]
    }
   ],
   "source": [
    "#Load Datasets\n",
    "\n",
    "## load Project Sunroof Data\n",
    "sr_data = pd.read_csv(\"data/project-sunroof-census_tract.csv\", index_col=\"region_name\")\n",
    "sr_data = sr_data.rename_axis(index={\"region_name\": \"GEOID\"})\n",
    "sr_data.index = sr_data.index.astype(int)\n",
    "#print(sr_data.head(5))\n",
    "\n",
    "#load Energy Equity Project Data\n",
    "eep_data = pd.read_csv(\"data/eep_final_data.csv\", index_col=\"GEOID\")\n",
    "eep_data.index = eep_data.index.astype(int)\n",
    "#print(eep_data.head(5))\n",
    "\n",
    "#load Justice40 Data\n",
    "j40_data = pd.read_csv(\"data/1.0-communities.csv\", index_col=\"Census tract 2010 ID\")\n",
    "j40_data = j40_data.rename_axis(index={\"Census tract 2010 ID\": \"GEOID\"})\n",
    "j40_data.index = j40_data.index.astype(int)\n",
    "#print(j40_data.head(5))\n",
    "\n",
    "#load Opportunity Zone Data\n",
    "oz_data = pd.read_csv(\"data/Opportunity_Zone_ExportTable1.csv\", index_col=\"Tract_Boundaries_ID\")\n",
    "oz_data = oz_data.rename_axis(index={\"Tract_Boundaries_ID\": \"GEOID\"})\n",
    "oz_data.index = oz_data.index.astype(int)\n",
    "#print(oz_data.head(5))\n",
    "\n",
    "#load REPLICA data\n",
    "replica_data = pd.read_csv(\"data/seeds_ii_replica.csv\", index_col=\"geoid\")\n",
    "replica_data = replica_data.rename_axis(index={\"geoid\": \"GEOID\"})\n",
    "replica_data.index = replica_data.index.astype(int)\n",
    "#print(oz_data.head(5))"
   ]
  },
  {
   "cell_type": "code",
   "execution_count": 9,
   "metadata": {},
   "outputs": [],
   "source": [
    "#Load Geospatial Dataset\n",
    "\n",
    "#load urban areas dataset from US Census Bureau\n",
    "urban_census_geodata = gpd.read_file(\"data/tl_2010_us_uac10.shx\")\n",
    "\n",
    "#load Energy Equity Project geojson for geometry\n",
    "eep_geodata = gpd.read_file(\"data/eep_final_simplified.json\")"
   ]
  },
  {
   "cell_type": "code",
   "execution_count": 16,
   "metadata": {},
   "outputs": [
    {
     "ename": "NameError",
     "evalue": "name 'tract_geoid' is not defined",
     "output_type": "error",
     "traceback": [
      "\u001b[0;31m---------------------------------------------------------------------------\u001b[0m",
      "\u001b[0;31mNameError\u001b[0m                                 Traceback (most recent call last)",
      "Cell \u001b[0;32mIn[16], line 4\u001b[0m\n\u001b[1;32m      2\u001b[0m tracts_geoid \u001b[39m=\u001b[39m eep_geodata[[\u001b[39m\"\u001b[39m\u001b[39mGEOID\u001b[39m\u001b[39m\"\u001b[39m, \u001b[39m\"\u001b[39m\u001b[39mgeometry\u001b[39m\u001b[39m\"\u001b[39m]]\n\u001b[1;32m      3\u001b[0m tracts_geoid \u001b[39m=\u001b[39m tracts_geoid\u001b[39m.\u001b[39mset_index(\u001b[39m\"\u001b[39m\u001b[39mGEOID\u001b[39m\u001b[39m\"\u001b[39m)\n\u001b[0;32m----> 4\u001b[0m tracts_geoid\u001b[39m.\u001b[39mindex \u001b[39m=\u001b[39m tract_geoid\u001b[39m.\u001b[39mindex\u001b[39m.\u001b[39mastype(\u001b[39mint\u001b[39m)\n",
      "\u001b[0;31mNameError\u001b[0m: name 'tract_geoid' is not defined"
     ]
    }
   ],
   "source": [
    "#Extract GEOID and Geometry to join into other datasets later\n",
    "tracts_geoid = eep_geodata[[\"GEOID\", \"geometry\"]]\n",
    "tracts_geoid = tracts_geoid.set_index(\"GEOID\")\n",
    "tracts_geoid.index = tracts_geoid.index.astype(int)"
   ]
  },
  {
   "cell_type": "code",
   "execution_count": 7,
   "metadata": {},
   "outputs": [
    {
     "name": "stdout",
     "output_type": "stream",
     "text": [
      "Project Sunroof Data Points:\n",
      "(56940, 30)\n",
      "Index([ 1003010704,  1003010704,  1003011405,  1003011405,  1003011406,\n",
      "        1003011406,  1003011501,  1003011501,  1015001000,  1015001000,\n",
      "       ...\n",
      "       56021000501, 56021000501, 56021000700, 56021000700, 56025000200,\n",
      "       56025000200, 72021031306, 72021031306, 72029100601, 72029100601],\n",
      "      dtype='int64', name='GEOID', length=8702)\n",
      "Project Sunroof Duplicate Points:\n",
      "8702\n",
      "Energy Equity Data Points:\n",
      "(83548, 43)\n",
      "Energy Equity Duplicate Points:\n",
      "0\n",
      "Justice 40 Data Points:\n",
      "(74134, 132)\n",
      "Justice 40 Duplicate Points:\n",
      "0\n",
      "REPLICA Data Points:\n",
      "(72760, 219)\n",
      "REPLICA Duplicate Points:\n",
      "0\n"
     ]
    }
   ],
   "source": [
    "#Get shape of datasets and check for duplicates\n",
    "print(\"Project Sunroof Data Points:\")\n",
    "print(sr_data.shape)\n",
    "duplicates = sr_data.index.duplicated(keep=False)\n",
    "num_duplicates = duplicates.sum()\n",
    "print(sr_data.index[duplicates])\n",
    "print(\"Project Sunroof Duplicate Points:\")\n",
    "print(num_duplicates)\n",
    "print(\"Energy Equity Data Points:\")\n",
    "print(eep_data.shape)\n",
    "eep_duplicates = eep_data.index.duplicated(keep=False)\n",
    "eep_num_duplicates = eep_duplicates.sum()\n",
    "print(\"Energy Equity Duplicate Points:\")\n",
    "print(eep_num_duplicates)\n",
    "#Where are the extra tracts in EEP data coming from?\n",
    "print(\"Justice 40 Data Points:\")\n",
    "print(j40_data.shape)\n",
    "duplicates = j40_data.index.duplicated(keep=False)\n",
    "num_duplicates = duplicates.sum()\n",
    "print(\"Justice 40 Duplicate Points:\")\n",
    "print(num_duplicates)\n",
    "print(\"REPLICA Data Points:\")\n",
    "print(replica_data.shape)\n",
    "duplicates = replica_data.index.duplicated(keep=False)\n",
    "num_duplicates = duplicates.sum()\n",
    "print(\"REPLICA Duplicate Points:\")\n",
    "print(num_duplicates)"
   ]
  },
  {
   "cell_type": "code",
   "execution_count": 9,
   "metadata": {},
   "outputs": [
    {
     "name": "stdout",
     "output_type": "stream",
     "text": [
      "Project Sunroof Data Points w Duplicates Removed:\n",
      "(52589, 30)\n"
     ]
    }
   ],
   "source": [
    "#Remove Duplicate Rows from Sunroof Dataset\n",
    "duplicates = sr_data.index.duplicated(keep=False)\n",
    "num_duplicates = duplicates.sum()\n",
    "\n",
    "# Sort the DataFrame by 'yearly_sunlight_kwh_kw_threshold_avg' in ascending order\n",
    "# Empty or zero values will be placed at the bottom\n",
    "# Remove duplicate rows without much data (which will be the second occurance)\n",
    "sorted_data = sr_data.sort_values('yearly_sunlight_kwh_kw_threshold_avg', ascending=True, na_position='last')\n",
    "sorted_data = sorted_data[~sorted_data.index.duplicated(keep='first')]\n",
    "print(\"Project Sunroof Data Points w Duplicates Removed:\")\n",
    "print(sorted_data.shape)"
   ]
  },
  {
   "cell_type": "code",
   "execution_count": 6,
   "metadata": {},
   "outputs": [
    {
     "name": "stdout",
     "output_type": "stream",
     "text": [
      "(41521, 1)\n"
     ]
    }
   ],
   "source": [
    "# Create Category 1 Dataset for Main Criteria \n",
    "# based on 45D(e) Internal Revenue Service Guidelines \n",
    "# which defines \"low-income community\" census tracts where: \n",
    "# 1) Poverty rate > 20% OR \n",
    "# 2) Median family income <= 80% of statewide MFI\n",
    "\n",
    "# Create a new column 'qualified' and initialize it with False\n",
    "oz_data['qualified'] = False\n",
    "\n",
    "columns_to_convert = ['Poverty_csv_Percent_below_pover', 'MedianFamilyIncome_csv_Median_F', 'State_MedFamInc', 'Metro_MedFamInc']\n",
    "\n",
    "# Convert selected columns to float, ignoring non-numeric values\n",
    "oz_data[columns_to_convert] = oz_data[columns_to_convert].apply(pd.to_numeric, errors='coerce')\n",
    "\n",
    "\n",
    "# Set 'qualified' if poverty percentage is >= 20\n",
    "oz_data.loc[oz_data['Poverty_csv_Percent_below_pover'] >= 20, 'qualified'] = True\n",
    "\n",
    "# Set 'qualified' if tract is in metro area and median family income does not exceed \n",
    "# the greater of 80% statewide median family income and 80% metropolitan area median family income\n",
    "oz_data.loc[(oz_data['Tract_by_Metro_Area_csv_class'] == \"Metro\") & \n",
    "             (oz_data['MedianFamilyIncome_csv_Median_F'] < oz_data[['State_MedFamInc', 'Metro_MedFamInc']].max(axis=1)), 'qualified'] = True\n",
    "\n",
    "# Set 'qualified' if tract not in a metro area and median family income does not exceed 80% statewide median family income\n",
    "oz_data.loc[(oz_data['Tract_by_Metro_Area_csv_class'] != \"Metro\") & \n",
    "             (oz_data['MedianFamilyIncome_csv_Median_F'] < 0.8*oz_data['State_MedFamInc']), 'qualified'] = True\n",
    "\n",
    "oz_data_qualified = oz_data.loc[oz_data[\"qualified\"] == True][['qualified']]\n",
    "print(oz_data_qualified.shape)"
   ]
  },
  {
   "cell_type": "code",
   "execution_count": 5,
   "metadata": {},
   "outputs": [
    {
     "name": "stdout",
     "output_type": "stream",
     "text": [
      "(27955, 28)\n"
     ]
    }
   ],
   "source": [
    "#Merge datasets\n",
    "sr_selected_cols = sr_data[['percent_covered', 'number_of_panels_total', 'number_of_panels_median', 'kw_median', 'kw_total', \n",
    "                            'yearly_sunlight_kwh_median', 'yearly_sunlight_kwh_total', 'carbon_offset_metric_tons', 'existing_installs_count']]\n",
    "\n",
    "eep_selected_cols = eep_data[['STATE_NAME', 'energy_burden', 'num_solar_installers', 'median_income_solar', 'total_pop', 'year_built', \n",
    "                              'total_households', 'median_income', 'owner_occupied', 'renter_occupied', 'bipoc_percent', 'community_power_score',  ]]\n",
    "\n",
    "j40_selected_cols = j40_data[['Total population', 'Percent of individuals < 100% Federal Poverty Line (percentile)', 'PM2.5 in the air (percentile)', \n",
    "                              'Current asthma among adults aged greater than or equal to 18 years (percentile)', 'Housing burden (percent) (percentile)', \n",
    "                              'Unemployment (percent) (percentile)']]\n",
    "\n",
    "merged_data = pd.merge(sr_selected_cols, eep_selected_cols, left_index=True, right_index=True)\n",
    "merged_data = pd.merge(merged_data, j40_selected_cols, left_index=True, right_index=True )\n",
    "merged_data = pd.merge(merged_data, oz_data_qualified, left_index=True, right_index=True )\n",
    "#does that do the filtering properly? ^^^\n",
    "print(merged_data.shape)"
   ]
  },
  {
   "cell_type": "code",
   "execution_count": 80,
   "metadata": {},
   "outputs": [
    {
     "name": "stdout",
     "output_type": "stream",
     "text": [
      "Number of data points removed for energy burden: 49\n"
     ]
    }
   ],
   "source": [
    "#Clean Data\n",
    "cleaned_data = merged_data.copy()\n",
    "\n",
    "# Count the initial number of data points\n",
    "initial_count = len(cleaned_data)\n",
    "\n",
    "# Create a boolean mask to filter out \n",
    "# 1) energy_burden data points at or above 100%\n",
    "energy_burden_mask = (cleaned_data['energy_burden'] < 100) & (cleaned_data['energy_burden'] >= 0)\n",
    "\n",
    "# Filter the DataFrame using the boolean masks while counting number of removed data points\n",
    "cleaned_data = cleaned_data[energy_burden_mask]\n",
    "new_count = len(cleaned_data)\n",
    "removed_count = initial_count - new_count\n",
    "print(\"Number of data points removed for energy burden:\", removed_count)"
   ]
  },
  {
   "cell_type": "code",
   "execution_count": 85,
   "metadata": {},
   "outputs": [],
   "source": [
    "#Write merged and cleaned dataset for further analysis\n",
    "cleaned_data.to_csv('cleaned_data.csv', index=True)\n",
    "\n",
    "#write tract_geoid to file\n",
    "tracts_geoid.to_file(\"tracts.geojson\", driver='GeoJSON')"
   ]
  }
 ],
 "metadata": {
  "kernelspec": {
   "display_name": "Python 3",
   "language": "python",
   "name": "python3"
  },
  "language_info": {
   "codemirror_mode": {
    "name": "ipython",
    "version": 3
   },
   "file_extension": ".py",
   "mimetype": "text/x-python",
   "name": "python",
   "nbconvert_exporter": "python",
   "pygments_lexer": "ipython3",
   "version": "3.10.10"
  },
  "orig_nbformat": 4
 },
 "nbformat": 4,
 "nbformat_minor": 2
}

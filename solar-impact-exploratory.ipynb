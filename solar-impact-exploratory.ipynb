{
 "cells": [
  {
   "cell_type": "code",
   "execution_count": null,
   "metadata": {},
   "outputs": [],
   "source": [
    "import pandas as pd\n",
    "import geopandas as gpd"
   ]
  },
  {
   "cell_type": "code",
   "execution_count": null,
   "metadata": {},
   "outputs": [],
   "source": [
    "#Load Datasets\n",
    "\n",
    "## load Project Sunroof Data\n",
    "sr_data = pd.read_csv(\"data/project-sunroof-census_tract.csv\", index_col=\"region_name\")\n",
    "sr_data = sr_data.rename_axis(index={\"region_name\": \"GEOID\"})\n",
    "sr_data.index = sr_data.index.astype(int)\n",
    "#print(sr_data.head(5))\n",
    "\n",
    "#load Energy Equity Project Data\n",
    "eep_data = pd.read_csv(\"data/eep_final_data.csv\", index_col=\"GEOID\")\n",
    "eep_data.index = eep_data.index.astype(int)\n",
    "#print(eep_data.head(5))\n",
    "\n",
    "#load Justice40 Data\n",
    "j40_data = pd.read_csv(\"data/1.0-communities.csv\", index_col=\"Census tract 2010 ID\")\n",
    "j40_data = j40_data.rename(columns={\"Census tract 2010 ID\": \"GEOID\"})\n",
    "j40_data.index = j40_data.index.astype(int)\n",
    "#print(j40_data.head(5))\n",
    "\n",
    "#load Opportunity Zone Data\n",
    "oz_data = pd.read_csv(\"data/Opportunity_Zone_ExportTable1.csv\", index_col=\"Tract_Boundaries_ID\")\n",
    "oz_data = oz_data.rename(columns={\"Tract_Boundaries_ID\": \"GEOID\"})\n",
    "oz_data.index = oz_data.index.astype(int)\n",
    "#print(oz_data.head(5))"
   ]
  },
  {
   "cell_type": "code",
   "execution_count": null,
   "metadata": {},
   "outputs": [],
   "source": [
    "##Top 10 census tracts for total solar potential and for median for each qualified census tract? (sunroof)\n",
    "top10_total_kwh_tracts = sr_data.nlargest(10, 'yearly_sunlight_kwh_total')\n",
    "print(top10_total_kwh_tracts)\n",
    "#yearly_sunlight_kwh_total"
   ]
  },
  {
   "cell_type": "code",
   "execution_count": null,
   "metadata": {},
   "outputs": [],
   "source": [
    "#yearly_sunlight_kwh_median\n",
    "top10_median_kwh_tracts = sr_data.nlargest(10, 'yearly_sunlight_kwh_median')\n",
    "print(top10_median_kwh_tracts)"
   ]
  },
  {
   "cell_type": "code",
   "execution_count": null,
   "metadata": {},
   "outputs": [],
   "source": [
    "#Energy Burden\n",
    "display_columns = ['STATE_NAME','NAMELSADCO','energy_burden']\n",
    "top10_energy_burden_tracts = eep_data.nlargest(10, 'energy_burden')\n",
    "print(top10_energy_burden_tracts[display_columns])"
   ]
  },
  {
   "cell_type": "code",
   "execution_count": null,
   "metadata": {},
   "outputs": [],
   "source": [
    "#Building Occupation\n",
    "display_columns = ['STATE_NAME','NAMELSADCO','renter_occupied', 'owner_occupied']\n",
    "top10_owner_occupied_tracts = eep_data.nlargest(10, 'owner_occupied')\n",
    "print(top10_owner_occupied_tracts[display_columns])"
   ]
  },
  {
   "cell_type": "code",
   "execution_count": null,
   "metadata": {},
   "outputs": [],
   "source": [
    "#Solar Installers and Median Income\n",
    "display_columns = ['STATE_NAME','NAMELSADCO','num_solar_installers', 'median_income_solar']\n",
    "top10_solar_installers_tracts = eep_data.nlargest(10, 'num_solar_installers')\n",
    "print(top10_solar_installers_tracts[display_columns])"
   ]
  },
  {
   "cell_type": "code",
   "execution_count": null,
   "metadata": {},
   "outputs": [],
   "source": [
    "#Solar Installers and Median Income\n",
    "display_columns = ['STATE_NAME','NAMELSADCO','num_solar_installers', 'median_income_solar']\n",
    "top10_solar_installer_income_tracts = eep_data.nsmallest(10, 'median_income_solar')\n",
    "print(top10_solar_installer_income_tracts[display_columns])"
   ]
  },
  {
   "cell_type": "code",
   "execution_count": null,
   "metadata": {},
   "outputs": [],
   "source": [
    "#Which areas have high adoption rates? (project sunroof)\n",
    "#existing_installs_count\n",
    "top10_existing_installs_high_count = sr_data.nlargest(10, 'existing_installs_count')\n",
    "print(top10_existing_installs_high_count)\n",
    "\n",
    "#Which areas don't already have high adoption rates? (project sunroof)\n",
    "#existing_installs_count\n",
    "top10_existing_installs_low_count = sr_data.nsmallest(10, 'existing_installs_count')\n",
    "print(top10_existing_installs_low_count)"
   ]
  },
  {
   "cell_type": "code",
   "execution_count": null,
   "metadata": {},
   "outputs": [],
   "source": [
    "# Group the data by 'state_name' and calculate the total solar potential for each state\n",
    "state_solar_potential = sr_data.groupby('state_name')['kw_total'].sum()\n",
    "\n",
    "# Sort the states based on solar potential in descending order\n",
    "sorted_states = state_solar_potential.sort_values(ascending=False)\n",
    "\n",
    "# Get the top 10 states with the highest solar potential\n",
    "top_10_states = sorted_states.head(10)\n",
    "\n",
    "# Print the top 10 states and their solar potential\n",
    "print(top_10_states)"
   ]
  },
  {
   "cell_type": "code",
   "execution_count": null,
   "metadata": {},
   "outputs": [],
   "source": [
    "# Group the data by 'state_name' and calculate existing_installs_count per state\n",
    "state_existing_installs = sr_data.groupby('state_name')['existing_installs_count'].sum()\n",
    "\n",
    "# Get the top 10 states with the highest solar installs\n",
    "top_10_states_installs = state_existing_installs.sort_values(ascending=False).head(10)\n",
    "\n",
    "# Get the bottom 10 states \n",
    "bottom_10_states_installs = state_existing_installs.sort_values(ascending=True).head(30)\n",
    "\n",
    "# Print the top 10 states and their solar potential\n",
    "print(top_10_states_installs)\n",
    "\n",
    "print(bottom_10_states_installs)"
   ]
  }
 ],
 "metadata": {
  "kernelspec": {
   "display_name": "Python 3",
   "language": "python",
   "name": "python3"
  },
  "language_info": {
   "codemirror_mode": {
    "name": "ipython",
    "version": 3
   },
   "file_extension": ".py",
   "mimetype": "text/x-python",
   "name": "python",
   "nbconvert_exporter": "python",
   "pygments_lexer": "ipython3",
   "version": "3.10.10"
  },
  "orig_nbformat": 4
 },
 "nbformat": 4,
 "nbformat_minor": 2
}
